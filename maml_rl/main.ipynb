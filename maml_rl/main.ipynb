{
 "cells": [
  {
   "cell_type": "code",
   "execution_count": 1,
   "metadata": {},
   "outputs": [],
   "source": [
    "from tools import *"
   ]
  },
  {
   "cell_type": "code",
   "execution_count": 2,
   "metadata": {},
   "outputs": [],
   "source": [
    "class MAML():\n",
    "    def __init__(self, output_dir, meta_iter=200, train_batch_size=20, test_batch_size=40):\n",
    "        self.device = 'cuda' if torch.cuda.is_available() else 'cpu'\n",
    "        \n",
    "        self.meta_iter = meta_iter\n",
    "        self.train_batch_size = train_batch_size\n",
    "        self.test_batch_size = test_batch_size\n",
    "        \n",
    "        self.history = []\n",
    "        self.train_loss = []\n",
    "        self.train_return = []\n",
    "        self.test_acc = []\n",
    "        \n",
    "        self.train_sampler = Sampler('RandomMiniEnv', meta_iter=meta_iter, \n",
    "                                     batch_size=train_batch_size, device=self.device)\n",
    "        self.test_sampler = Sampler('RandomMiniEnv', meta_iter=meta_iter,\n",
    "                                    batch_size=test_batch_size, device=self.device)\n",
    "        \n",
    "        self.policy = Policy()\n",
    "        self.baseline = LinearFeatureBaseline(input_size=135)\n",
    "        self.ml = MetaLearner(self.train_sampler, self.policy, \n",
    "                              self.baseline, num_episodes=train_batch_size, device=self.device)\n",
    "        \n",
    "        os.makedirs(output_dir, exist_ok=True)\n",
    "        self.checkpoint_path = os.path.join(output_dir, \n",
    "                                            \"checkpoint.pth.tar\")\n",
    "        self.config_path = os.path.join(output_dir, \"config.txt\")\n",
    "        \n",
    "        locs = {k : v for k, v in locals().items() if k is not 'self'}\n",
    "        self.__dict__.update(locs)\n",
    "        \n",
    "        if os.path.isfile(self.config_path):\n",
    "            with open(self.config_path, 'r') as f:\n",
    "                if f.read()[:-1] != repr(self):\n",
    "                    print(f.read())\n",
    "                    raise ValueError(\n",
    "                        \"Cannot create this experiment: \"\n",
    "                        \"I found a checkpoint conflicting with the current setting.\")\n",
    "            self.load()\n",
    "        else:\n",
    "            self.save()\n",
    "        \n",
    "    @property\n",
    "    def iteration(self):\n",
    "        return len(self.history)\n",
    "    \n",
    "    def setting(self):\n",
    "        return {'Policy' : self.policy,\n",
    "                'Baseline' : self.baseline,\n",
    "                'TrainBatchSize' : self.train_batch_size}  \n",
    "    \n",
    "    def __repr__(self):\n",
    "        string = ''\n",
    "        for key, val in self.setting().items():\n",
    "            string += '{}({})\\n'.format(key, val)\n",
    "        return string\n",
    "    \n",
    "    def state_dict(self):\n",
    "        return {'Policy' : self.policy.state_dict(),\n",
    "                'Baseline' : self.baseline.state_dict(),\n",
    "                'TrainSampler' : self.train_sampler,\n",
    "                'History' : self.history,\n",
    "                'TrainLoss' : self.train_loss,\n",
    "                'TrainReturn' : self.train_return}\n",
    "    \n",
    "    def load_state_dict(self, checkpoint):\n",
    "        self.policy.load_state_dict(checkpoint['Policy'])\n",
    "        self.baseline.load_state_dict(checkpoint['Baseline'])\n",
    "        \n",
    "        self.train_sampler = checkpoint['TrainSampler']\n",
    "        self.history = checkpoint['History']\n",
    "        self.train_loss = checkpoint['TrainLoss']\n",
    "        self.train_return = checkpoint['TrainReturn']\n",
    "        \n",
    "    def save(self):\n",
    "        torch.save(self.state_dict(), self.checkpoint_path)\n",
    "        with open(self.config_path, 'w') as f:\n",
    "            print(self, file=f)\n",
    "    \n",
    "    def load(self):\n",
    "        checkpoint = torch.load(self.checkpoint_path,\n",
    "                                map_location=self.device)\n",
    "        self.load_state_dict(checkpoint)\n",
    "        del checkpoint  \n",
    "        \n",
    "    def run(self):\n",
    "        start_iter = self.iteration\n",
    "        \n",
    "        print(\"Start/Continue training from iteration {}\".format(start_iter))\n",
    "        \n",
    "        for i in range(start_iter, self.meta_iter):\n",
    "            tasks = self.train_sampler.sample_tasks(low=1, \n",
    "                                                    high=20, \n",
    "                                                    num_tasks=10)\n",
    "            episodes = self.ml.sample(tasks, first_order=True)\n",
    "                        \n",
    "            avg_return = self.ml.average_return(episodes)\n",
    "            loss = self.ml.step(episodes)\n",
    "            \n",
    "            self.history.append(i)\n",
    "            self.train_return.append(avg_return)\n",
    "            self.train_loss.append(loss)\n",
    "            \n",
    "            self.save()\n",
    "            \n",
    "            print(\"Done with meta-iteration {}. Avg Return = {}, Loss = {}\".format(i,\n",
    "                                                                               avg_return,\n",
    "                                                                               loss))\n",
    "            \n",
    "        print(\"Finished training for {} meta-iterations\".format(self.meta_iter))"
   ]
  },
  {
   "cell_type": "code",
   "execution_count": 3,
   "metadata": {},
   "outputs": [],
   "source": [
    "exp = MAML(output_dir=\"experiment1\")"
   ]
  },
  {
   "cell_type": "code",
   "execution_count": null,
   "metadata": {},
   "outputs": [],
   "source": [
    "# exp.run()"
   ]
  },
  {
   "cell_type": "code",
   "execution_count": 12,
   "metadata": {},
   "outputs": [],
   "source": [
    "task = exp.test_sampler.sample_tasks(low=1, high=20, num_tasks=1)[0]"
   ]
  },
  {
   "cell_type": "code",
   "execution_count": 14,
   "metadata": {},
   "outputs": [],
   "source": [
    "def create_episodes(task, policy, params):        \n",
    "    episodes = BatchEpisodes(batch_size=exp.test_batch_size, device=exp.device)\n",
    "\n",
    "    traj_id = 0\n",
    "\n",
    "    done = False\n",
    "    state = task.reset()\n",
    "\n",
    "    while not done:\n",
    "        with torch.no_grad():\n",
    "            action = policy(torch.Tensor(state).to(device=exp.device), \n",
    "                            params=params).sample()\n",
    "            action = action.cpu().numpy()\n",
    "\n",
    "        next_state, reward, done, _ = task.step(action)\n",
    "        episodes.append(next_state, action, reward, traj_id)\n",
    "\n",
    "        state = next_state\n",
    "\n",
    "        if done:\n",
    "            traj_id += 1\n",
    "\n",
    "            if traj_id == exp.test_batch_size:\n",
    "                return episodes\n",
    "\n",
    "            done = False\n",
    "            state = task.reset()"
   ]
  },
  {
   "cell_type": "code",
   "execution_count": 15,
   "metadata": {},
   "outputs": [],
   "source": [
    "test_episodes = [(0, create_episodes(task, exp.ml.policy, params=None), None)]\n",
    "# test episodes contains (# of gradient steps, batch episodes object, net params from gradient step adaptation)\n",
    "\n",
    "for i in range(2):\n",
    "    _, episodes_prev, _ = test_episodes[-1]\n",
    "    \n",
    "    params = exp.ml.adapt(episodes_prev)\n",
    "    episodes_next = create_episodes(task, exp.ml.policy, params=params)\n",
    "    \n",
    "    test_episodes.append((i+1, episodes_next, params))"
   ]
  },
  {
   "cell_type": "code",
   "execution_count": 16,
   "metadata": {},
   "outputs": [],
   "source": [
    "final_params = test_episodes[-1][2]"
   ]
  },
  {
   "cell_type": "code",
   "execution_count": 8,
   "metadata": {},
   "outputs": [],
   "source": [
    "task = test_task[0]\n",
    "state = task.reset()\n",
    "done = False"
   ]
  },
  {
   "cell_type": "code",
   "execution_count": 6,
   "metadata": {},
   "outputs": [],
   "source": [
    "while not done:\n",
    "    action = exp.ml.policy(torch.Tensor(state).to(exp.device)).sample()\n",
    "    action = action.cpu().numpy()\n",
    "    \n",
    "    next_state, reward, done, _ = task.step(action)\n",
    "    \n",
    "    state = next_state"
   ]
  },
  {
   "cell_type": "code",
   "execution_count": null,
   "metadata": {},
   "outputs": [],
   "source": []
  },
  {
   "cell_type": "code",
   "execution_count": null,
   "metadata": {},
   "outputs": [],
   "source": []
  },
  {
   "cell_type": "code",
   "execution_count": null,
   "metadata": {},
   "outputs": [],
   "source": []
  }
 ],
 "metadata": {
  "kernelspec": {
   "display_name": "Python 3",
   "language": "python",
   "name": "python3"
  },
  "language_info": {
   "codemirror_mode": {
    "name": "ipython",
    "version": 3
   },
   "file_extension": ".py",
   "mimetype": "text/x-python",
   "name": "python",
   "nbconvert_exporter": "python",
   "pygments_lexer": "ipython3",
   "version": "3.7.3"
  }
 },
 "nbformat": 4,
 "nbformat_minor": 2
}
